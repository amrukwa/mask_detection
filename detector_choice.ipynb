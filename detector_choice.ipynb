{
 "cells": [
  {
   "cell_type": "code",
   "execution_count": 2,
   "metadata": {},
   "outputs": [],
   "source": [
    "import numpy as np\n",
    "import cv2 as cv\n",
    "import matplotlib.pyplot as plt\n",
    "import glob\n",
    "import pandas as pd\n",
    "import seaborn as sns"
   ]
  },
  {
   "cell_type": "markdown",
   "metadata": {},
   "source": [
    "## Ground truth - annotation files"
   ]
  },
  {
   "cell_type": "code",
   "execution_count": 3,
   "metadata": {},
   "outputs": [],
   "source": [
    "import xml.etree.ElementTree as ET"
   ]
  },
  {
   "cell_type": "code",
   "execution_count": 4,
   "metadata": {},
   "outputs": [],
   "source": [
    "img_dir = \"dataset/second_approach/images/\"\n",
    "annot_dir = \"dataset/second_approach/annotations/\""
   ]
  },
  {
   "cell_type": "code",
   "execution_count": 5,
   "metadata": {},
   "outputs": [],
   "source": [
    "annot = [file for file in glob.glob(annot_dir + \"*.xml\")]"
   ]
  },
  {
   "cell_type": "markdown",
   "metadata": {},
   "source": [
    "### Let's see exemplary files content"
   ]
  },
  {
   "cell_type": "code",
   "execution_count": 6,
   "metadata": {},
   "outputs": [
    {
     "data": {
      "text/plain": [
       "['dataset/second_approach/annotations/maksssksksss110.xml',\n",
       " 'dataset/second_approach/annotations/maksssksksss380.xml']"
      ]
     },
     "execution_count": 6,
     "metadata": {},
     "output_type": "execute_result"
    }
   ],
   "source": [
    "annot1 = [annot[3]]+[annot[1]]\n",
    "annot1"
   ]
  },
  {
   "cell_type": "code",
   "execution_count": 6,
   "metadata": {},
   "outputs": [],
   "source": [
    "def extract_faces(annotations, return_bdbox=False):\n",
    "    images = []\n",
    "    labels = []\n",
    "    files = []\n",
    "    for img_annot in annotations:\n",
    "        tree = ET.parse(img_annot)\n",
    "        root = tree.getroot()\n",
    "        file = root.find('filename').text\n",
    "        file_path = img_dir + file\n",
    "        img = cv.imread(file_path)\n",
    "        size = root.find('size')\n",
    "        width = int(size.find('width').text)\n",
    "        height = int(size.find('height').text)\n",
    "        x = img.shape[1]/width\n",
    "        y = img.shape[0]/height\n",
    "        objects = root.findall('object')\n",
    "        for object in objects:\n",
    "            label = object.find('name').text\n",
    "            place = str(len(objects)) + \": \" + label\n",
    "            labels.append(place)\n",
    "            bndbox = object.find('bndbox')\n",
    "            xmin = int((int(bndbox.find('xmin').text))/x)\n",
    "            ymin = int((int(bndbox.find('ymin').text))/y)\n",
    "            xmax = int((int(bndbox.find('xmax').text))/x)\n",
    "            ymax = int((int(bndbox.find('ymax').text))/y)\n",
    "            if return_bdbox:\n",
    "                images.append([xmin, ymin, xmax, ymax])\n",
    "                files.append(file_path)\n",
    "            else:\n",
    "                face = img[ymin:ymax, xmin:xmax]\n",
    "                images.append(face)\n",
    "    if return_bdbox:\n",
    "        return images, labels, files\n",
    "    return images, labels"
   ]
  },
  {
   "cell_type": "code",
   "execution_count": 7,
   "metadata": {},
   "outputs": [
    {
     "data": {
      "text/plain": [
       "27"
      ]
     },
     "execution_count": 7,
     "metadata": {},
     "output_type": "execute_result"
    }
   ],
   "source": [
    "images1, labels1 = extract_faces(annot1)\n",
    "len(labels1)"
   ]
  },
  {
   "cell_type": "code",
   "execution_count": null,
   "metadata": {},
   "outputs": [],
   "source": [
    "fig=plt.figure(figsize=(30, 10))\n",
    "axes = []\n",
    "for i in range(len(images1)):\n",
    "    img = cv.cvtColor(images1[i], cv.COLOR_BGR2RGB)\n",
    "    axes.append(fig.add_subplot(3, 9, i+1))\n",
    "    plt.axis('off')\n",
    "    plt.title(labels1[i])\n",
    "    plt.imshow(img)   \n",
    "plt.show()"
   ]
  },
  {
   "cell_type": "markdown",
   "metadata": {},
   "source": [
    "What's good:\n",
    "- multiple faces at one photo\n",
    "- ocluded elements\n",
    "- diffetent positions"
   ]
  },
  {
   "cell_type": "markdown",
   "metadata": {},
   "source": [
    "## Let's take a closer look at the dataset"
   ]
  },
  {
   "cell_type": "code",
   "execution_count": 7,
   "metadata": {},
   "outputs": [
    {
     "name": "stdout",
     "output_type": "stream",
     "text": [
      "Tiny face:  maksssksksss64.png size:  6\n",
      "Tiny face:  maksssksksss64.png size:  9\n",
      "Tiny face:  maksssksksss64.png size:  2\n",
      "Tiny face:  maksssksksss64.png size:  4\n",
      "Tiny face:  maksssksksss64.png size:  6\n",
      "Tiny face:  maksssksksss64.png size:  2\n",
      "Tiny face:  maksssksksss64.png size:  2\n",
      "Tiny face:  maksssksksss486.png size:  12\n",
      "Tiny face:  maksssksksss603.png size:  15\n"
     ]
    }
   ],
   "source": [
    "faces_on_photo = []\n",
    "photo_size = []\n",
    "\n",
    "face_sizes_area = []\n",
    "face_sizes_perc = []\n",
    "\n",
    "tiny_faces_annot = []\n",
    "tiny_faces_img = []\n",
    "tiny_faces = {}\n",
    "\n",
    "for img_annot in annot:\n",
    "    tree = ET.parse(img_annot)\n",
    "    root = tree.getroot()\n",
    "    objects = root.findall('object')\n",
    "    faces_number = len(objects)\n",
    "    file = root.find('filename').text\n",
    "    file_path = img_dir + file\n",
    "    img = cv.imread(file_path)\n",
    "    img_size = img.shape[0]*img.shape[1]\n",
    "    photo_size.append(img_size**0.5)\n",
    "    size = root.find('size')\n",
    "    width = int(size.find('width').text)\n",
    "    height = int(size.find('height').text)\n",
    "    x = img.shape[1]/width\n",
    "    y = img.shape[0]/height\n",
    "    for object in objects:\n",
    "        bndbox = object.find('bndbox')\n",
    "        xmin = int((int(bndbox.find('xmin').text))/x)\n",
    "        ymin = int((int(bndbox.find('ymin').text))/y)\n",
    "        xmax = int((int(bndbox.find('xmax').text))/x)\n",
    "        ymax = int((int(bndbox.find('ymax').text))/y)\n",
    "        area = (xmax-xmin)*(ymax-ymin)\n",
    "        if(area < 16):\n",
    "            print(\"Tiny face: \", file, \"size: \", area)\n",
    "            tiny_faces_annot.append(img_annot)\n",
    "            tiny_faces_img.append(file_path)\n",
    "            faces_number -= 1\n",
    "            if (file_path in tiny_faces):\n",
    "                tiny_faces[file_path] += 1\n",
    "            else:\n",
    "                tiny_faces[file_path] = 1\n",
    "        else:\n",
    "            face_sizes_area.append(area**(0.5))\n",
    "            face_sizes_perc.append(100*area/img_size)\n",
    "    faces_on_photo.append(faces_number)"
   ]
  },
  {
   "cell_type": "markdown",
   "metadata": {},
   "source": [
    "### Tiny faces?"
   ]
  },
  {
   "cell_type": "code",
   "execution_count": 8,
   "metadata": {},
   "outputs": [
    {
     "data": {
      "text/plain": [
       "['dataset/second_approach/annotations/maksssksksss64.xml',\n",
       " 'dataset/second_approach/annotations/maksssksksss603.xml',\n",
       " 'dataset/second_approach/annotations/maksssksksss486.xml']"
      ]
     },
     "execution_count": 8,
     "metadata": {},
     "output_type": "execute_result"
    }
   ],
   "source": [
    "tiny_faces_annot = list(set(tiny_faces_annot))\n",
    "tiny_faces_img = list(set(tiny_faces_img))\n",
    "tiny_faces_annot"
   ]
  },
  {
   "cell_type": "code",
   "execution_count": 9,
   "metadata": {},
   "outputs": [
    {
     "data": {
      "text/plain": [
       "['dataset/second_approach/images/maksssksksss64.png',\n",
       " 'dataset/second_approach/images/maksssksksss486.png',\n",
       " 'dataset/second_approach/images/maksssksksss603.png']"
      ]
     },
     "execution_count": 9,
     "metadata": {},
     "output_type": "execute_result"
    }
   ],
   "source": [
    "tiny_faces_img"
   ]
  },
  {
   "cell_type": "code",
   "execution_count": 10,
   "metadata": {},
   "outputs": [
    {
     "data": {
      "text/plain": [
       "['dataset/second_approach/images/maksssksksss64.png',\n",
       " 'dataset/second_approach/images/maksssksksss603.png',\n",
       " 'dataset/second_approach/images/maksssksksss486.png']"
      ]
     },
     "execution_count": 10,
     "metadata": {},
     "output_type": "execute_result"
    }
   ],
   "source": [
    "tiny_faces_img = [tiny_faces_img[i] for i in [0, 2, 1]]\n",
    "tiny_faces_img"
   ]
  },
  {
   "cell_type": "code",
   "execution_count": 12,
   "metadata": {},
   "outputs": [
    {
     "data": {
      "text/plain": [
       "134"
      ]
     },
     "execution_count": 12,
     "metadata": {},
     "output_type": "execute_result"
    }
   ],
   "source": [
    "imgs2 = []\n",
    "for i in tiny_faces_img:\n",
    "    imgs2.append(cv.imread(i))\n",
    "images2, labels2, files2 = extract_faces(tiny_faces_annot, return_bdbox=True)\n",
    "len(labels2)"
   ]
  },
  {
   "cell_type": "code",
   "execution_count": 48,
   "metadata": {},
   "outputs": [],
   "source": [
    "from collections import Counter"
   ]
  },
  {
   "cell_type": "code",
   "execution_count": null,
   "metadata": {},
   "outputs": [],
   "source": [
    "Counter(files2)"
   ]
  },
  {
   "cell_type": "code",
   "execution_count": null,
   "metadata": {},
   "outputs": [],
   "source": [
    "fig=plt.figure(figsize=(30, 10))\n",
    "axes = []\n",
    "for i in range(len(imgs2)):\n",
    "    img = cv.cvtColor(imgs2[i], cv.COLOR_BGR2RGB)\n",
    "    axes.append(fig.add_subplot(1,3, i+1))\n",
    "    plt.axis('off')\n",
    "    plt.imshow(img)\n",
    "plt.show()"
   ]
  },
  {
   "cell_type": "code",
   "execution_count": null,
   "metadata": {},
   "outputs": [],
   "source": [
    "fig=plt.figure(figsize=(10, 15))\n",
    "axes = []\n",
    "\n",
    "for i in range(len(images2)):\n",
    "    bdbox = images2[i]\n",
    "    if ((bdbox[2]-bdbox[0])*(bdbox[3]-bdbox[1]) < 16):\n",
    "        idx = tiny_faces_img.index(files2[i])\n",
    "        cv.rectangle(imgs2[idx], (bdbox[0], bdbox[1]), (bdbox[2], bdbox[3]), (0, 0, 255), 2)\n",
    "for i in range(len(imgs2)):\n",
    "    img = cv.cvtColor(imgs2[i], cv.COLOR_BGR2RGB)\n",
    "    axes.append(fig.add_subplot(3, 1, i+1))\n",
    "    plt.axis('off')\n",
    "    plt.imshow(img) \n"
   ]
  },
  {
   "cell_type": "markdown",
   "metadata": {},
   "source": [
    "### Histograms"
   ]
  },
  {
   "cell_type": "code",
   "execution_count": 56,
   "metadata": {},
   "outputs": [],
   "source": [
    "photo_size = [x / 10**3 for x in photo_size]\n",
    "photo_characteristics = pd.DataFrame({'Faces on photo': faces_on_photo, 'Photo size (kilopixels)': photo_size})"
   ]
  },
  {
   "cell_type": "code",
   "execution_count": null,
   "metadata": {},
   "outputs": [],
   "source": [
    "sns.displot(photo_characteristics, x='Photo size (kilopixels)', bins=int((len(photo_characteristics))**(0.5)))"
   ]
  },
  {
   "cell_type": "code",
   "execution_count": null,
   "metadata": {},
   "outputs": [],
   "source": [
    "sns.displot(photo_characteristics, x='Faces on photo', bins=int((len(photo_characteristics))**(0.5)))"
   ]
  },
  {
   "cell_type": "code",
   "execution_count": 9,
   "metadata": {},
   "outputs": [],
   "source": [
    "faces_characteristics = pd.DataFrame({'Faces area': face_sizes_area, 'Faces percentage': face_sizes_perc})"
   ]
  },
  {
   "cell_type": "code",
   "execution_count": null,
   "metadata": {},
   "outputs": [],
   "source": [
    "sns.displot(faces_characteristics, x='Faces area', bins=int((len(faces_characteristics))**(0.5)))"
   ]
  },
  {
   "cell_type": "code",
   "execution_count": 85,
   "metadata": {},
   "outputs": [],
   "source": [
    "import matplotlib.ticker as tkr"
   ]
  },
  {
   "cell_type": "code",
   "execution_count": null,
   "metadata": {},
   "outputs": [],
   "source": [
    "fig = sns.displot(faces_characteristics, x='Faces percentage', bins=int((len(faces_characteristics))**(0.5)))\n",
    "for ax in fig.axes.flat:\n",
    "    ax.xaxis.set_major_formatter(tkr.FuncFormatter(lambda x, p: f'{x: .0f}%'))\n",
    "fig"
   ]
  },
  {
   "cell_type": "markdown",
   "metadata": {},
   "source": [
    "### Exemplary files - detection check"
   ]
  },
  {
   "cell_type": "code",
   "execution_count": 11,
   "metadata": {},
   "outputs": [],
   "source": [
    "img_dir = 'dataset/second_approach/images/'\n",
    "exemplary_annot = ['dataset/second_approach/annotations/maksssksksss521.xml',\n",
    "                  'dataset/second_approach/annotations/maksssksksss473.xml',\n",
    "                  'dataset/second_approach/annotations/maksssksksss110.xml']"
   ]
  },
  {
   "cell_type": "code",
   "execution_count": 12,
   "metadata": {},
   "outputs": [],
   "source": [
    "exemplary_imgs_files = ['dataset/second_approach/images/maksssksksss521.png',\n",
    "                        'dataset/second_approach/images/maksssksksss473.png',\n",
    "                        'dataset/second_approach/images/maksssksksss110.png']\n",
    "exemplary_imgs = [cv.imread(file) for file in exemplary_imgs_files]"
   ]
  },
  {
   "cell_type": "code",
   "execution_count": 67,
   "metadata": {},
   "outputs": [],
   "source": [
    "exemplary_images, exemplary_labels, exemplary_files = extract_faces(exemplary_annot, return_bdbox=True)"
   ]
  },
  {
   "cell_type": "code",
   "execution_count": null,
   "metadata": {},
   "outputs": [],
   "source": [
    "fig=plt.figure(figsize=(30, 20))\n",
    "axes = []\n",
    "\n",
    "for i in range(len(exemplary_images)):\n",
    "    bdbox = exemplary_images[i]\n",
    "    idx = exemplary_imgs_files.index(exemplary_files[i])\n",
    "    cv.rectangle(exemplary_imgs[idx], (bdbox[0], bdbox[1]), (bdbox[2], bdbox[3]), (0, 0, 255), 1)\n",
    "for i in range(len(exemplary_imgs)):\n",
    "    img = cv.cvtColor(exemplary_imgs[i], cv.COLOR_BGR2RGB)\n",
    "    axes.append(fig.add_subplot(3, 1, i+1))\n",
    "    plt.axis('off')\n",
    "    plt.imshow(img)"
   ]
  },
  {
   "cell_type": "markdown",
   "metadata": {},
   "source": [
    "## Detector 1 - OpenCV's Haar Cascades"
   ]
  },
  {
   "cell_type": "code",
   "execution_count": 8,
   "metadata": {},
   "outputs": [],
   "source": [
    "from pylab import *"
   ]
  },
  {
   "cell_type": "code",
   "execution_count": 9,
   "metadata": {},
   "outputs": [],
   "source": [
    "haar_detector = cv.CascadeClassifier('models/haarcascade_frontalface_default.xml')"
   ]
  },
  {
   "cell_type": "code",
   "execution_count": 252,
   "metadata": {},
   "outputs": [],
   "source": [
    "def haar_annotate(img_path, model):\n",
    "    image = cv.imread(img_path)\n",
    "    img_gray = cv.cvtColor(image, cv.COLOR_BGR2GRAY)\n",
    "    faces = haar_detector.detectMultiScale(img_gray, scaleFactor = 1.2, minNeighbors = 5)\n",
    "    for (a, b, c, d) in faces:\n",
    "        cv.rectangle(image, (a, b), (a+c, b+d), (0, 0, 255), 1)\n",
    "    image = cv.cvtColor(image, cv.COLOR_BGR2RGB)\n",
    "    return image"
   ]
  },
  {
   "cell_type": "code",
   "execution_count": null,
   "metadata": {},
   "outputs": [],
   "source": [
    "fig=plt.figure(figsize=(30, 15))\n",
    "axes = []\n",
    "for i in range(len(exemplary_imgs_files)):\n",
    "    image = haar_annotate(exemplary_imgs_files[i], haar_detector)\n",
    "    axes.append(fig.add_subplot(3, 1, i+1))\n",
    "    plt.axis('off')\n",
    "    plt.imshow(image)"
   ]
  },
  {
   "cell_type": "code",
   "execution_count": 42,
   "metadata": {},
   "outputs": [],
   "source": [
    "def normalize_haar_results(filename, detector):\n",
    "    img = cv.imread(filename)\n",
    "    img_gray = cv.cvtColor(img, cv.COLOR_BGR2GRAY) \n",
    "    faces = detector.detectMultiScale(img_gray, scaleFactor = 1.2, minNeighbors = 5)\n",
    "    faces = [[face[i] if i < 2 else face[i]+face[i-2] for i in range(len(face))] for face in faces]\n",
    "    return faces"
   ]
  },
  {
   "cell_type": "markdown",
   "metadata": {},
   "source": [
    "## Detector 2 - OpenCV's DNN module"
   ]
  },
  {
   "cell_type": "code",
   "execution_count": 11,
   "metadata": {},
   "outputs": [],
   "source": [
    "dnn_detector = cv.dnn.readNetFromCaffe(\"models/deploy.prototxt.txt\",\n",
    "                                       \"models/res10_300x300_ssd_iter_140000.caffemodel\")"
   ]
  },
  {
   "cell_type": "code",
   "execution_count": 168,
   "metadata": {},
   "outputs": [],
   "source": [
    "def dnn_annotate(img_path, model):\n",
    "    img = cv.imread(img_path)\n",
    "    h, w = img.shape[:2]\n",
    "    blob = cv.dnn.blobFromImage(cv.resize(img, (300, 300)), 1.0, (300, 300), (104.0, 117.0, 123.0))\n",
    "    model.setInput(blob)\n",
    "    detected = model.forward()\n",
    "    for j in range(detected.shape[2]):\n",
    "        confidence = detected[0, 0, j, 2]\n",
    "        if confidence > 0.5:\n",
    "            box = detected[0, 0, j, 3:7] * np.array([w, h, w, h])\n",
    "            coords = box.astype(\"int\")\n",
    "            cv.rectangle(img, (coords[0], coords[1]), (coords[2], coords[3]), (0, 0, 255), 1)\n",
    "    img = cv.cvtColor(img, cv.COLOR_BGR2RGB)\n",
    "    return img"
   ]
  },
  {
   "cell_type": "code",
   "execution_count": null,
   "metadata": {},
   "outputs": [],
   "source": [
    "fig=plt.figure(figsize=(30, 15))\n",
    "axes = []\n",
    "\n",
    "for i in range(len(exemplary_imgs_files)):\n",
    "    img = dnn_annotate(exemplary_imgs_files[i], dnn_detector)\n",
    "    axes.append(fig.add_subplot(3, 1, i+1))\n",
    "    plt.axis('off')\n",
    "    plt.imshow(img)"
   ]
  },
  {
   "cell_type": "code",
   "execution_count": 41,
   "metadata": {},
   "outputs": [],
   "source": [
    "def normalize_dnn_results(filename, model):\n",
    "    img = cv.imread(filename)\n",
    "    faces = []\n",
    "    h, w = img.shape[:2]\n",
    "    blob = cv.dnn.blobFromImage(cv.resize(img, (300, 300)), 1.0, (300, 300), (104.0, 117.0, 123.0))\n",
    "    model.setInput(blob)\n",
    "    detected = model.forward()\n",
    "    for j in range(detected.shape[2]):\n",
    "        confidence = detected[0, 0, j, 2]\n",
    "        if confidence > 0.5:\n",
    "            box = detected[0, 0, j, 3:7] * np.array([w, h, w, h])\n",
    "            coords = box.astype(\"int\")\n",
    "            faces.append(coords)\n",
    "    return faces"
   ]
  },
  {
   "cell_type": "markdown",
   "metadata": {},
   "source": [
    "## Detector 3 - MTCNN"
   ]
  },
  {
   "cell_type": "code",
   "execution_count": 13,
   "metadata": {},
   "outputs": [],
   "source": [
    "from mtcnn.mtcnn import MTCNN\n",
    "mtcnn_detector = MTCNN()"
   ]
  },
  {
   "cell_type": "code",
   "execution_count": 292,
   "metadata": {},
   "outputs": [],
   "source": [
    "def mtcnn_annotate(img_path, model):\n",
    "    img = cv.imread(img_path)\n",
    "    faces = model.detect_faces(img)\n",
    "    for face in faces:\n",
    "        bdbox =face.get('box')\n",
    "        cv.rectangle(img, (bdbox[0], bdbox[1]), (bdbox[0]+bdbox[2], bdbox[1]+bdbox[3]), (0, 0, 255), 1)\n",
    "    img = cv.cvtColor(img, cv.COLOR_BGR2RGB)\n",
    "    return img"
   ]
  },
  {
   "cell_type": "code",
   "execution_count": null,
   "metadata": {},
   "outputs": [],
   "source": [
    "exemplary_imgs = [cv.imread(file) for file in exemplary_imgs_files]\n",
    "fig=plt.figure(figsize=(30, 15))\n",
    "axes = []\n",
    "\n",
    "for i in range(len(exemplary_imgs_files)):\n",
    "    img = mtcnn_annotate(exemplary_imgs_files[i], mtcnn_detector)\n",
    "    axes.append(fig.add_subplot(3, 1, i+1))\n",
    "    plt.axis('off')\n",
    "    plt.imshow(img)"
   ]
  },
  {
   "cell_type": "code",
   "execution_count": 40,
   "metadata": {},
   "outputs": [],
   "source": [
    "def normalize_mtcnn_results(filename, model):\n",
    "    img = cv.imread(filename)\n",
    "    faces = []\n",
    "    boxes = model.detect_faces(img)\n",
    "    for box in boxes:\n",
    "        bdbox = box.get('box')\n",
    "        normalized_box = [bdbox[0], bdbox[1], bdbox[0]+bdbox[2], bdbox[1]+bdbox[3]]\n",
    "        faces.append(normalized_box)\n",
    "    return faces"
   ]
  },
  {
   "cell_type": "markdown",
   "metadata": {},
   "source": [
    "## Detector 4 - Dlib HOG"
   ]
  },
  {
   "cell_type": "code",
   "execution_count": 217,
   "metadata": {},
   "outputs": [],
   "source": [
    "import dlib\n",
    "hog_detector = dlib.get_frontal_face_detector()"
   ]
  },
  {
   "cell_type": "code",
   "execution_count": 218,
   "metadata": {},
   "outputs": [],
   "source": [
    "def hog_annotate(img_path, model, scale=2):\n",
    "    image = cv.imread(img_path)\n",
    "    faces = model(image, scale)\n",
    "    for face in faces:\n",
    "        cv.rectangle(image, (face.left(), face.top()), (face.right(), face.bottom()), (0, 0, 255), 1)\n",
    "    image = cv.cvtColor(image, cv.COLOR_BGR2RGB)\n",
    "    return image"
   ]
  },
  {
   "cell_type": "code",
   "execution_count": null,
   "metadata": {},
   "outputs": [],
   "source": [
    "fig=plt.figure(figsize=(30, 15))\n",
    "axes = []\n",
    "\n",
    "changing_param = [1, 2, 4]\n",
    "for j in range(len(changing_param)):\n",
    "    for i in range(len(exemplary_imgs_files)):\n",
    "        image = hog_annotate(exemplary_imgs_files[i], hog_detector, scale=changing_param[j])\n",
    "        axes.append(fig.add_subplot(3, 3, 3*i+j+1))\n",
    "        plt.axis('off')\n",
    "        plt.imshow(image)"
   ]
  },
  {
   "cell_type": "code",
   "execution_count": 221,
   "metadata": {},
   "outputs": [],
   "source": [
    "def normalize_hog_results(filename, model):\n",
    "    img = cv.imread(filename)\n",
    "    faces = []\n",
    "    boxes = model(img, 2)\n",
    "    for box in boxes:\n",
    "        faces.append([box.left(), box.top(), box.right(), box.bottom()])\n",
    "    return faces"
   ]
  },
  {
   "cell_type": "markdown",
   "metadata": {},
   "source": [
    "## Detector 5 - dlib MMOD"
   ]
  },
  {
   "cell_type": "code",
   "execution_count": 16,
   "metadata": {},
   "outputs": [],
   "source": [
    "import dlib\n",
    "mmod_detector = dlib.cnn_face_detection_model_v1(\"models/mmod_human_face_detector.dat\")"
   ]
  },
  {
   "cell_type": "code",
   "execution_count": 21,
   "metadata": {},
   "outputs": [],
   "source": [
    "def mmod_annotate(img_path, model):\n",
    "    image = cv.imread(img_path)\n",
    "    faces = model(image)\n",
    "    for box in faces:\n",
    "        face = box.rect\n",
    "        cv.rectangle(image, (face.left(), face.top()), (face.right(), face.bottom()), (0, 0, 255), 1)\n",
    "    image = cv.cvtColor(image, cv.COLOR_BGR2RGB)\n",
    "    return image"
   ]
  },
  {
   "cell_type": "code",
   "execution_count": null,
   "metadata": {},
   "outputs": [],
   "source": [
    "exemplary_imgs = [cv.imread(file) for file in exemplary_imgs_files]\n",
    "fig=plt.figure(figsize=(30, 15))\n",
    "axes = []\n",
    "\n",
    "for i in range(len(exemplary_imgs_files)):\n",
    "    img = mmod_annotate(exemplary_imgs_files[i], mmod_detector)\n",
    "    axes.append(fig.add_subplot(3, 1, i+1))\n",
    "    plt.axis('off')\n",
    "    plt.imshow(img)"
   ]
  },
  {
   "cell_type": "code",
   "execution_count": null,
   "metadata": {},
   "outputs": [],
   "source": [
    "def normalize_mmod_results(filename, model):\n",
    "    img = cv.imread(filename)\n",
    "    faces = []\n",
    "    boxes = model(img, 2)\n",
    "    for box in boxes:\n",
    "        face = box.rect\n",
    "        faces.append([face.left(), face.top(), face.right(), face.bottom()])\n",
    "    return faces"
   ]
  },
  {
   "cell_type": "markdown",
   "metadata": {},
   "source": [
    "## Detector 6 - 3DDFA"
   ]
  },
  {
   "cell_type": "code",
   "execution_count": 17,
   "metadata": {},
   "outputs": [],
   "source": [
    "import importlib"
   ]
  },
  {
   "cell_type": "code",
   "execution_count": 18,
   "metadata": {},
   "outputs": [],
   "source": [
    "import yaml\n",
    "import matplotlib.pyplot as plt\n",
    "\n",
    "FaceBoxes = importlib.import_module('3DDFA_V2.FaceBoxes.FaceBoxes')\n",
    "mod_TDDFA = importlib.import_module('3DDFA_V2.TDDFA')\n",
    "TDDFA = getattr(mod_TDDFA, \"TDDFA\")\n",
    "mod_functions = importlib.import_module('3DDFA_V2.utils.functions')\n",
    "draw_landmarks = getattr(mod_functions, \"draw_landmarks\")\n",
    "mod_render = importlib.import_module('3DDFA_V2.utils.render')\n",
    "render = getattr(mod_render, \"render\")\n",
    "mod_depth = importlib.import_module('3DDFA_V2.utils.depth')\n",
    "depth = getattr(mod_depth, \"depth\")\n"
   ]
  },
  {
   "cell_type": "code",
   "execution_count": 19,
   "metadata": {},
   "outputs": [],
   "source": [
    "# load config\n",
    "cfg = yaml.load(open('3DDFA_V2/configs/mb1_120x120.yml'), Loader=yaml.SafeLoader)\n",
    "\n",
    "# Init FaceBoxes and TDDFA, recommend using onnx flag\n",
    "onnx_flag = True  # or True to use ONNX to speed up\n",
    "if onnx_flag:\n",
    "    import os\n",
    "    os.environ['KMP_DUPLICATE_LIB_OK'] = 'True'\n",
    "    os.environ['OMP_NUM_THREADS'] = '4'\n",
    "    \n",
    "    mod_FaceBoxesONNX = importlib.import_module('3DDFA_V2.FaceBoxes.FaceBoxes_ONNX')\n",
    "    FaceBoxes_ONNX = getattr(mod_FaceBoxesONNX, \"FaceBoxes_ONNX\")\n",
    "    mod_TDDFA_ONNX = importlib.import_module('3DDFA_V2.TDDFA_ONNX')\n",
    "    TDDFA_ONNX = getattr(mod_TDDFA_ONNX, \"TDDFA_ONNX\")\n",
    "    \n",
    "    face_boxes = FaceBoxes_ONNX()\n",
    "    tddfa = TDDFA_ONNX(**cfg)\n",
    "else:\n",
    "    tddfa = TDDFA(gpu_mode=False, **cfg)\n",
    "    face_boxes = FaceBoxes()"
   ]
  },
  {
   "cell_type": "code",
   "execution_count": 301,
   "metadata": {},
   "outputs": [],
   "source": [
    "def ddfa_annotate(img_path, model):\n",
    "    img = cv.imread(img_path)\n",
    "    boxes = model(img)\n",
    "    for box in boxes:\n",
    "        if box[4] > 0.5:\n",
    "            cv.rectangle(img, (int(box[0]), int(box[1])), (int(box[2]), int(box[3])), (0, 0, 255), 1)\n",
    "    img = cv.cvtColor(img, cv.COLOR_BGR2RGB)\n",
    "    return img"
   ]
  },
  {
   "cell_type": "code",
   "execution_count": null,
   "metadata": {},
   "outputs": [],
   "source": [
    "exemplary_imgs = [cv.imread(file) for file in exemplary_imgs_files]\n",
    "fig=plt.figure(figsize=(30, 15))\n",
    "axes = []\n",
    "\n",
    "for i in range(len(exemplary_imgs_files)):\n",
    "    img = ddfa_annotate(exemplary_imgs_files[i], face_boxes)\n",
    "    axes.append(fig.add_subplot(3, 1, i+1))\n",
    "    plt.axis('off')\n",
    "    plt.imshow(img)"
   ]
  },
  {
   "cell_type": "code",
   "execution_count": null,
   "metadata": {},
   "outputs": [],
   "source": [
    "exemplary_imgs = [cv.imread(file) for file in exemplary_imgs_files]\n",
    "fig=plt.figure(figsize=(30, 15))\n",
    "axes = []\n",
    "dense_flag = False\n",
    "\n",
    "for i in range(len(exemplary_imgs)):\n",
    "    img = exemplary_imgs[i]\n",
    "    boxes = face_boxes(img)\n",
    "    param_lst, roi_box_lst = tddfa(img, boxes)\n",
    "    ver_lst = tddfa.recon_vers(param_lst, roi_box_lst, dense_flag=dense_flag)\n",
    "    draw_landmarks(img, ver_lst, dense_flag=dense_flag)"
   ]
  },
  {
   "cell_type": "code",
   "execution_count": 38,
   "metadata": {},
   "outputs": [],
   "source": [
    "def normalize_3ddfa_results(filename, model):\n",
    "    img = cv.imread(filename)\n",
    "    boxes = model(img)\n",
    "    faces = []\n",
    "    for box in boxes:\n",
    "        if box[4] > 0.5:\n",
    "            faces.append((int(box[0]), int(box[1]), int(box[2]), int(box[3])))\n",
    "    return faces"
   ]
  },
  {
   "cell_type": "markdown",
   "metadata": {},
   "source": [
    "## Detector 7 - CrowdHuman"
   ]
  },
  {
   "cell_type": "code",
   "execution_count": null,
   "metadata": {},
   "outputs": [],
   "source": [
    "%%bash\n",
    "cd yolov4_crowdhuman/darknet\n",
    " ./darknet detector test data/crowdhuman-608x608.data \\\n",
    "                          cfg/yolov4-crowdhuman-608x608.cfg \\\n",
    "                          backup/yolov4-crowdhuman-608x608_best.weights \\\n",
    "                          -dont_show -ext_output < ../../dataset/trial/filenames.txt > ../../dataset/trial/result.txt \\\n",
    "                          -out ../../dataset/trial/result.json \\\n",
    "                          -gpus 0"
   ]
  },
  {
   "cell_type": "code",
   "execution_count": 21,
   "metadata": {},
   "outputs": [],
   "source": [
    "import json\n",
    "with open(\"dataset/trial/result.json\") as file:\n",
    "    data = json.load(file)"
   ]
  },
  {
   "cell_type": "code",
   "execution_count": null,
   "metadata": {},
   "outputs": [],
   "source": [
    "fig=plt.figure(figsize=(30, 15))\n",
    "axes = []\n",
    "i = 0\n",
    "\n",
    "for photo in data:\n",
    "    img = cv.imread(photo[\"filename\"])\n",
    "    width = img.shape[1]\n",
    "    height = img.shape[0]\n",
    "    for object in photo[\"objects\"]:\n",
    "        if object[\"name\"] == 'head' and object[\"confidence\"] > 0.5 :\n",
    "            xmin = int((object[\"relative_coordinates\"][\"center_x\"] - object[\"relative_coordinates\"][\"width\"]/2)*width)\n",
    "            xmax = int((object[\"relative_coordinates\"][\"center_x\"] + object[\"relative_coordinates\"][\"width\"]/2)*width)\n",
    "            ymin = int((object[\"relative_coordinates\"][\"center_y\"] - object[\"relative_coordinates\"][\"height\"]/2)*height)\n",
    "            ymax = int((object[\"relative_coordinates\"][\"center_y\"] + object[\"relative_coordinates\"][\"height\"]/2)*height)\n",
    "            cv.rectangle(img, (xmin, ymin), (xmax, ymax), (0, 0, 255), 1)\n",
    "    img = cv.cvtColor(img, cv.COLOR_BGR2RGB)\n",
    "    axes.append(fig.add_subplot(3, 1, i+1))\n",
    "    plt.axis('off')\n",
    "    plt.imshow(img)\n",
    "    i += 1"
   ]
  },
  {
   "cell_type": "code",
   "execution_count": null,
   "metadata": {},
   "outputs": [],
   "source": [
    "%%bash\n",
    "cd yolov4_crowdhuman/darknet\n",
    " ./darknet detector test data/crowdhuman-608x608.data \\\n",
    "                          cfg/yolov4-crowdhuman-608x608.cfg \\\n",
    "                          backup/yolov4-crowdhuman-608x608_best.weights \\\n",
    "                          -dont_show -ext_output < ../../dataset/trial/ground_truths.txt > ../../dataset/trial/ground_result.txt \\\n",
    "                          -out ../../dataset/trial/ground_result.json \\\n",
    "                          -gpus 0"
   ]
  },
  {
   "cell_type": "markdown",
   "metadata": {},
   "source": [
    "### Use CrowdHuman prediction results"
   ]
  },
  {
   "cell_type": "code",
   "execution_count": 22,
   "metadata": {},
   "outputs": [],
   "source": [
    "import json\n",
    "with open(\"dataset/trial/ground_result.json\") as file:\n",
    "    data_ground = json.load(file)"
   ]
  },
  {
   "cell_type": "code",
   "execution_count": 23,
   "metadata": {},
   "outputs": [],
   "source": [
    "ch_filenames = []"
   ]
  },
  {
   "cell_type": "code",
   "execution_count": 24,
   "metadata": {},
   "outputs": [],
   "source": [
    "for photo in data_ground:\n",
    "    ch_filenames.append(photo['filename'].replace(\"/am/dataset/second_approach/images/\", \"\"))"
   ]
  },
  {
   "cell_type": "code",
   "execution_count": 308,
   "metadata": {},
   "outputs": [],
   "source": [
    "def crowd_human_annotate(filename, i=None):\n",
    "    img = cv.imread(filename)\n",
    "    width = img.shape[1]\n",
    "    height = img.shape[0]\n",
    "    file_name = filename.replace(\"dataset/second_approach/images/\", \"\")\n",
    "    idx = ch_filenames.index(file_name)\n",
    "    for object in data_ground[idx][\"objects\"]:\n",
    "        if object[\"name\"] == 'head' and object[\"confidence\"] > 0.5 :\n",
    "            xmin = int((object[\"relative_coordinates\"][\"center_x\"] - object[\"relative_coordinates\"][\"width\"]/2)*width)\n",
    "            xmax = int((object[\"relative_coordinates\"][\"center_x\"] + object[\"relative_coordinates\"][\"width\"]/2)*width)\n",
    "            ymin = int((object[\"relative_coordinates\"][\"center_y\"] - object[\"relative_coordinates\"][\"height\"]/2)*height)\n",
    "            ymax = int((object[\"relative_coordinates\"][\"center_y\"] + object[\"relative_coordinates\"][\"height\"]/2)*height)\n",
    "            cv.rectangle(img, (xmin, ymin), (xmax, ymax), (0, 0, 255), 1)\n",
    "    img = cv.cvtColor(img, cv.COLOR_BGR2RGB)\n",
    "    return img"
   ]
  },
  {
   "cell_type": "code",
   "execution_count": 30,
   "metadata": {},
   "outputs": [],
   "source": [
    "def normalize_crowdhuman_results(filename, i=None):\n",
    "    img = cv.imread(filename)\n",
    "    width = img.shape[1]\n",
    "    height = img.shape[0]\n",
    "    faces  = []\n",
    "    file_name = filename.replace(\"dataset/second_approach/images/\", \"\")\n",
    "    idx = ch_filenames.index(file_name)\n",
    "    for object in data_ground[idx][\"objects\"]:\n",
    "        if object[\"name\"] == 'head' and object[\"confidence\"] > 0.5 :\n",
    "            xmin = int((object[\"relative_coordinates\"][\"center_x\"] - object[\"relative_coordinates\"][\"width\"]/2)*width)\n",
    "            xmax = int((object[\"relative_coordinates\"][\"center_x\"] + object[\"relative_coordinates\"][\"width\"]/2)*width)\n",
    "            ymin = int((object[\"relative_coordinates\"][\"center_y\"] - object[\"relative_coordinates\"][\"height\"]/2)*height)\n",
    "            ymax = int((object[\"relative_coordinates\"][\"center_y\"] + object[\"relative_coordinates\"][\"height\"]/2)*height)\n",
    "            faces.append((xmin, ymin, xmax, ymax))\n",
    "    return faces"
   ]
  },
  {
   "cell_type": "markdown",
   "metadata": {},
   "source": [
    "## Detector 8 - RetinaFace"
   ]
  },
  {
   "cell_type": "markdown",
   "metadata": {},
   "source": [
    "It has landmarks - nose, mouth, eyes"
   ]
  },
  {
   "cell_type": "code",
   "execution_count": 190,
   "metadata": {},
   "outputs": [
    {
     "name": "stdout",
     "output_type": "stream",
     "text": [
      "[32, 16, 8] {'32': {'SCALES': (32, 16), 'BASE_SIZE': 16, 'RATIOS': (1.0,), 'ALLOWED_BORDER': 9999}, '16': {'SCALES': (8, 4), 'BASE_SIZE': 16, 'RATIOS': (1.0,), 'ALLOWED_BORDER': 9999}, '8': {'SCALES': (2, 1), 'BASE_SIZE': 16, 'RATIOS': (1.0,), 'ALLOWED_BORDER': 9999}}\n",
      "use_landmarks True\n"
     ]
    }
   ],
   "source": [
    "import mxnet as mx\n",
    "import insightface\n",
    "\n",
    "retina_detector = insightface.model_zoo.get_model('retinaface_r50_v1')\n",
    "retina_detector.prepare(ctx_id = -1, nms=0.4)"
   ]
  },
  {
   "cell_type": "code",
   "execution_count": 198,
   "metadata": {},
   "outputs": [],
   "source": [
    "def retina_annotate(filename, model):\n",
    "    img = cv.imread(filename)\n",
    "    boxes, landmark = model.detect(img, threshold=0.5, scale=1.0)\n",
    "    for bdbox in boxes:\n",
    "        cv.rectangle(img, (int(bdbox[0]), int(bdbox[1])), (int(bdbox[2]), int(bdbox[3])), (0, 0, 255), 1)\n",
    "    img = cv.cvtColor(img, cv.COLOR_BGR2RGB)\n",
    "    return img"
   ]
  },
  {
   "cell_type": "code",
   "execution_count": 199,
   "metadata": {},
   "outputs": [],
   "source": [
    "def normalize_retina_results(filename, model):\n",
    "    img = cv.imread(filename)\n",
    "    bbox, landmark = model.detect(img, threshold=0.5, scale=1.0)\n",
    "    return bbox"
   ]
  },
  {
   "cell_type": "code",
   "execution_count": null,
   "metadata": {},
   "outputs": [],
   "source": [
    "exemplary_imgs = [cv.imread(file) for file in exemplary_imgs_files]\n",
    "fig=plt.figure(figsize=(30, 15))\n",
    "axes = []\n",
    "\n",
    "for i in range(len(exemplary_imgs_files)):\n",
    "    img = retina_annotate(exemplary_imgs_files[i], retina_detector)\n",
    "    axes.append(fig.add_subplot(3, 1, i+1))\n",
    "    plt.axis('off')\n",
    "    plt.imshow(img)"
   ]
  },
  {
   "cell_type": "markdown",
   "metadata": {},
   "source": [
    "## Detector comparison"
   ]
  },
  {
   "cell_type": "code",
   "execution_count": 204,
   "metadata": {},
   "outputs": [],
   "source": [
    "def iou_pass(bb_target, bb_pred):\n",
    "    x_min = max(bb_target[0], bb_pred[0]) \n",
    "    y_min = max(bb_target[1], bb_pred[1])\n",
    "    x_max = min(bb_target[2], bb_pred[2]) \n",
    "    y_max = min(bb_target[3], bb_pred[3]) \n",
    "    inter = max(0, x_max-x_min+1)*max(0, y_max-y_min+1)\n",
    "    union = (bb_pred[2]-bb_pred[0]+1)*(bb_pred[3]-bb_pred[1]+1) + (bb_target[2]-bb_target[0]+1)*(bb_target[3]-bb_target[1]+1) - inter\n",
    "    if inter/union > 0.5:\n",
    "        return True\n",
    "    return False"
   ]
  },
  {
   "cell_type": "code",
   "execution_count": 205,
   "metadata": {},
   "outputs": [],
   "source": [
    "def size_class(area):\n",
    "    if area < 32**2:\n",
    "        return 0\n",
    "    if area < 96**2:\n",
    "        return 1\n",
    "    return 2"
   ]
  },
  {
   "cell_type": "code",
   "execution_count": 206,
   "metadata": {},
   "outputs": [],
   "source": [
    "def estimate_model_prediction(bdbox, width, height, faces, unused, not_in_iou):\n",
    "    is_left = True\n",
    "    xmin = int((int(bndbox.find('xmin').text))/width)\n",
    "    ymin = int((int(bndbox.find('ymin').text))/height)\n",
    "    xmax = int((int(bndbox.find('xmax').text))/width)\n",
    "    ymax = int((int(bndbox.find('ymax').text))/height)\n",
    "    size_group = size_class((ymax-ymin)*(xmax-xmin))\n",
    "    TP = 0\n",
    "    FN = 0\n",
    "    FP = 0\n",
    "    for j in range(len(faces)):\n",
    "            if iou_pass((xmin, ymin, xmax, ymax), (faces[j][0], faces[j][1], faces[j][2], faces[j][3])):\n",
    "                if (not is_left or not unused[j]):\n",
    "                    FP += 1\n",
    "                else:\n",
    "                    TP += 1\n",
    "                    is_left = False\n",
    "                    unused[j] = False\n",
    "                not_in_iou[j] = False\n",
    "    if (is_left):\n",
    "        FN = 1\n",
    "    return size_group, TP, FN, FP"
   ]
  },
  {
   "cell_type": "code",
   "execution_count": 211,
   "metadata": {},
   "outputs": [],
   "source": [
    "detectors = [(normalize_haar_results, haar_detector), (normalize_dnn_results, dnn_detector),\n",
    "            (normalize_mtcnn_results, mtcnn_detector), \n",
    "            (normalize_hog_results, hog_detector), (normalize_mmod_results, mmod_detector),\n",
    "            (normalize_3ddfa_results, face_boxes), (normalize_crowdhuman_results, None),\n",
    "            (normalize_retina_results, retina_detector)]\n",
    "names = [\"Haar\", \"DNN\", \"MTCNN\", \"HOG\", \"MMOD\", \"3DDFA\", \"CrowdHuman\", \"RetinaFace\"]\n",
    "size = [\"S\", \"M\", \"L\"]"
   ]
  },
  {
   "cell_type": "code",
   "execution_count": 209,
   "metadata": {},
   "outputs": [],
   "source": [
    "FP = np.zeros((len(detectors), 3, len(annot1)))\n",
    "TP = np.zeros((len(detectors), 3, len(annot1)))\n",
    "FN = np.zeros((len(detectors), 3, len(annot1)))\n",
    "for img_annot in exemplary_annot:\n",
    "    k = 0\n",
    "    tree = ET.parse(img_annot)\n",
    "    root = tree.getroot()\n",
    "    \n",
    "    file = root.find('filename').text\n",
    "    file_path = img_dir + file\n",
    "    img = cv.imread(file_path)\n",
    "        \n",
    "    objects = root.findall('object')\n",
    "    size = root.find('size')\n",
    "    width = img.shape[1]/int(size.find('width').text)\n",
    "    height = img.shape[0]/int(size.find('height').text)\n",
    "    for j in range(len(detectors)):\n",
    "        faces = detectors[j][0](file_path, detectors[j][1])\n",
    "        unused = [True]*len(faces)\n",
    "        not_in_iou = [True]*len(faces)\n",
    "        for i in range(len(objects)):\n",
    "            bndbox = objects[i].find('bndbox')\n",
    "            size_group, tp, fn, fp = estimate_model_prediction(bndbox, width, height, faces, unused, not_in_iou)\n",
    "            TP[j, size_group, k] += tp\n",
    "            FN[j, size_group, k] += fn\n",
    "            FP[j, size_group, k] += fp\n",
    "        FP[j, size_group, k] += sum(not_in_iou)\n",
    "    k += 1"
   ]
  },
  {
   "cell_type": "code",
   "execution_count": 212,
   "metadata": {},
   "outputs": [
    {
     "data": {
      "text/html": [
       "<div>\n",
       "<style scoped>\n",
       "    .dataframe tbody tr th:only-of-type {\n",
       "        vertical-align: middle;\n",
       "    }\n",
       "\n",
       "    .dataframe tbody tr th {\n",
       "        vertical-align: top;\n",
       "    }\n",
       "\n",
       "    .dataframe thead th {\n",
       "        text-align: right;\n",
       "    }\n",
       "</style>\n",
       "<table border=\"1\" class=\"dataframe\">\n",
       "  <thead>\n",
       "    <tr style=\"text-align: right;\">\n",
       "      <th></th>\n",
       "      <th>index</th>\n",
       "      <th>over_L</th>\n",
       "      <th>det_L</th>\n",
       "      <th>under_L</th>\n",
       "      <th>total_faces_L</th>\n",
       "      <th>total_L</th>\n",
       "      <th>over_M</th>\n",
       "      <th>det_M</th>\n",
       "      <th>under_M</th>\n",
       "      <th>total_faces_M</th>\n",
       "      <th>total_M</th>\n",
       "      <th>over_S</th>\n",
       "      <th>det_S</th>\n",
       "      <th>under_S</th>\n",
       "      <th>total_faces_S</th>\n",
       "      <th>total_S</th>\n",
       "    </tr>\n",
       "  </thead>\n",
       "  <tbody>\n",
       "    <tr>\n",
       "      <th>0</th>\n",
       "      <td>Haar</td>\n",
       "      <td>0.0</td>\n",
       "      <td>0.0</td>\n",
       "      <td>0.0</td>\n",
       "      <td>0.0</td>\n",
       "      <td>0.0</td>\n",
       "      <td>0.0</td>\n",
       "      <td>2.0</td>\n",
       "      <td>14.0</td>\n",
       "      <td>16.0</td>\n",
       "      <td>16.0</td>\n",
       "      <td>0.0</td>\n",
       "      <td>2.0</td>\n",
       "      <td>13.0</td>\n",
       "      <td>15.0</td>\n",
       "      <td>15.0</td>\n",
       "    </tr>\n",
       "    <tr>\n",
       "      <th>1</th>\n",
       "      <td>DNN</td>\n",
       "      <td>0.0</td>\n",
       "      <td>0.0</td>\n",
       "      <td>0.0</td>\n",
       "      <td>0.0</td>\n",
       "      <td>0.0</td>\n",
       "      <td>0.0</td>\n",
       "      <td>8.0</td>\n",
       "      <td>8.0</td>\n",
       "      <td>16.0</td>\n",
       "      <td>16.0</td>\n",
       "      <td>1.0</td>\n",
       "      <td>11.0</td>\n",
       "      <td>4.0</td>\n",
       "      <td>15.0</td>\n",
       "      <td>16.0</td>\n",
       "    </tr>\n",
       "    <tr>\n",
       "      <th>2</th>\n",
       "      <td>MTCNN</td>\n",
       "      <td>0.0</td>\n",
       "      <td>0.0</td>\n",
       "      <td>0.0</td>\n",
       "      <td>0.0</td>\n",
       "      <td>0.0</td>\n",
       "      <td>0.0</td>\n",
       "      <td>10.0</td>\n",
       "      <td>6.0</td>\n",
       "      <td>16.0</td>\n",
       "      <td>16.0</td>\n",
       "      <td>1.0</td>\n",
       "      <td>12.0</td>\n",
       "      <td>3.0</td>\n",
       "      <td>15.0</td>\n",
       "      <td>16.0</td>\n",
       "    </tr>\n",
       "    <tr>\n",
       "      <th>3</th>\n",
       "      <td>Dlib</td>\n",
       "      <td>0.0</td>\n",
       "      <td>0.0</td>\n",
       "      <td>0.0</td>\n",
       "      <td>0.0</td>\n",
       "      <td>0.0</td>\n",
       "      <td>0.0</td>\n",
       "      <td>5.0</td>\n",
       "      <td>11.0</td>\n",
       "      <td>16.0</td>\n",
       "      <td>16.0</td>\n",
       "      <td>0.0</td>\n",
       "      <td>5.0</td>\n",
       "      <td>10.0</td>\n",
       "      <td>15.0</td>\n",
       "      <td>15.0</td>\n",
       "    </tr>\n",
       "    <tr>\n",
       "      <th>4</th>\n",
       "      <td>3DDFA</td>\n",
       "      <td>0.0</td>\n",
       "      <td>0.0</td>\n",
       "      <td>0.0</td>\n",
       "      <td>0.0</td>\n",
       "      <td>0.0</td>\n",
       "      <td>1.0</td>\n",
       "      <td>9.0</td>\n",
       "      <td>7.0</td>\n",
       "      <td>16.0</td>\n",
       "      <td>17.0</td>\n",
       "      <td>9.0</td>\n",
       "      <td>5.0</td>\n",
       "      <td>10.0</td>\n",
       "      <td>15.0</td>\n",
       "      <td>24.0</td>\n",
       "    </tr>\n",
       "    <tr>\n",
       "      <th>5</th>\n",
       "      <td>CrowdHuman</td>\n",
       "      <td>0.0</td>\n",
       "      <td>0.0</td>\n",
       "      <td>0.0</td>\n",
       "      <td>0.0</td>\n",
       "      <td>0.0</td>\n",
       "      <td>3.0</td>\n",
       "      <td>3.0</td>\n",
       "      <td>13.0</td>\n",
       "      <td>16.0</td>\n",
       "      <td>19.0</td>\n",
       "      <td>11.0</td>\n",
       "      <td>2.0</td>\n",
       "      <td>13.0</td>\n",
       "      <td>15.0</td>\n",
       "      <td>26.0</td>\n",
       "    </tr>\n",
       "    <tr>\n",
       "      <th>6</th>\n",
       "      <td>RetinaFace</td>\n",
       "      <td>0.0</td>\n",
       "      <td>0.0</td>\n",
       "      <td>0.0</td>\n",
       "      <td>0.0</td>\n",
       "      <td>0.0</td>\n",
       "      <td>0.0</td>\n",
       "      <td>16.0</td>\n",
       "      <td>0.0</td>\n",
       "      <td>16.0</td>\n",
       "      <td>16.0</td>\n",
       "      <td>17.0</td>\n",
       "      <td>15.0</td>\n",
       "      <td>0.0</td>\n",
       "      <td>15.0</td>\n",
       "      <td>32.0</td>\n",
       "    </tr>\n",
       "  </tbody>\n",
       "</table>\n",
       "</div>"
      ],
      "text/plain": [
       "        index  over_L  det_L  under_L  total_faces_L  total_L  over_M  det_M  \\\n",
       "0        Haar     0.0    0.0      0.0            0.0      0.0     0.0    2.0   \n",
       "1         DNN     0.0    0.0      0.0            0.0      0.0     0.0    8.0   \n",
       "2       MTCNN     0.0    0.0      0.0            0.0      0.0     0.0   10.0   \n",
       "3        Dlib     0.0    0.0      0.0            0.0      0.0     0.0    5.0   \n",
       "4       3DDFA     0.0    0.0      0.0            0.0      0.0     1.0    9.0   \n",
       "5  CrowdHuman     0.0    0.0      0.0            0.0      0.0     3.0    3.0   \n",
       "6  RetinaFace     0.0    0.0      0.0            0.0      0.0     0.0   16.0   \n",
       "\n",
       "   under_M  total_faces_M  total_M  over_S  det_S  under_S  total_faces_S  \\\n",
       "0     14.0           16.0     16.0     0.0    2.0     13.0           15.0   \n",
       "1      8.0           16.0     16.0     1.0   11.0      4.0           15.0   \n",
       "2      6.0           16.0     16.0     1.0   12.0      3.0           15.0   \n",
       "3     11.0           16.0     16.0     0.0    5.0     10.0           15.0   \n",
       "4      7.0           16.0     17.0     9.0    5.0     10.0           15.0   \n",
       "5     13.0           16.0     19.0    11.0    2.0     13.0           15.0   \n",
       "6      0.0           16.0     16.0    17.0   15.0      0.0           15.0   \n",
       "\n",
       "   total_S  \n",
       "0     15.0  \n",
       "1     16.0  \n",
       "2     16.0  \n",
       "3     15.0  \n",
       "4     24.0  \n",
       "5     26.0  \n",
       "6     32.0  "
      ]
     },
     "execution_count": 212,
     "metadata": {},
     "output_type": "execute_result"
    }
   ],
   "source": [
    "overdetected = []\n",
    "for j in range(len(names)):\n",
    "    for i in range(len(size)):\n",
    "        overdetected.append(np.sum(FP[j, i, :]))\n",
    "d = pd.DataFrame(np.reshape(overdetected, (len(names), len(size))))\n",
    "d.index = names\n",
    "d.columns = [\"over_\"+cat for cat in size]\n",
    "\n",
    "for i in range(len(size)):\n",
    "    det = []\n",
    "    under = []\n",
    "    for j in range(len(names)):\n",
    "        det.append(np.sum(TP[j, i, :]))\n",
    "        under.append(np.sum(FN[j, i, :]))\n",
    "    d[\"det_\"+size[i]] = det\n",
    "    d[\"under_\"+size[i]] = under\n",
    "    d[\"total_faces_\"+size[i]] = d[\"under_\"+size[i]] +  d[\"det_\"+size[i]]\n",
    "    d[\"total_\"+size[i]] = d[\"total_faces_\"+size[i]] + d[\"over_\"+size[i]]\n",
    "d = d[sorted(d.columns.values ,key = lambda x:x[-1])]\n",
    "d.reset_index(drop=False, inplace=True)\n",
    "d"
   ]
  },
  {
   "cell_type": "markdown",
   "metadata": {},
   "source": [
    "### Comparison on face sizes"
   ]
  },
  {
   "cell_type": "code",
   "execution_count": 213,
   "metadata": {},
   "outputs": [],
   "source": [
    "import matplotlib.patches as mpatches"
   ]
  },
  {
   "cell_type": "code",
   "execution_count": 214,
   "metadata": {},
   "outputs": [],
   "source": [
    "sizes_names = [\"Small\", \"Medium\", \"Large\"]"
   ]
  },
  {
   "cell_type": "code",
   "execution_count": 215,
   "metadata": {},
   "outputs": [
    {
     "data": {
      "image/png": "[encoded data removed]",
      "text/plain": [
       "<Figure size 720x504 with 1 Axes>"
      ]
     },
     "metadata": {
      "needs_background": "light"
     },
     "output_type": "display_data"
    },
    {
     "data": {
      "image/png": "[encoded data removed]",
      "text/plain": [
       "<Figure size 720x504 with 1 Axes>"
      ]
     },
     "metadata": {
      "needs_background": "light"
     },
     "output_type": "display_data"
    },
    {
     "data": {
      "image/png": "[encoded data removed]",
      "text/plain": [
       "<Figure size 720x504 with 1 Axes>"
      ]
     },
     "metadata": {
      "needs_background": "light"
     },
     "output_type": "display_data"
    }
   ],
   "source": [
    "for i in range(len(size)):\n",
    "    plt.figure(figsize=(10, 7))\n",
    "    bar1 = sns.barplot(x=\"index\",  y=\"total_\"+size[i], data=d, color='red')\n",
    "    bar2 = sns.barplot(x=\"index\", y=\"total_faces_\"+size[i], data=d,  color='blue')\n",
    "    bar3 = sns.barplot(x=\"index\", y=\"under_\"+size[i], data=d,  color='lightblue')\n",
    "    plt.title(sizes_names[i] +\" faces\", size=18)\n",
    "    plt.xlabel(\"Model\")\n",
    "    plt.ylabel(\"Occurences\")\n",
    "    top_bar = mpatches.Patch(color='blue', label='Detected')\n",
    "    bottom_bar = mpatches.Patch(color='lightblue', label='Underdetected')\n",
    "    medium_bar = mpatches.Patch(color='red', label='Overdetected')\n",
    "    plt.legend(handles=[top_bar, bottom_bar, medium_bar])\n",
    "    plt.show()"
   ]
  },
  {
   "cell_type": "markdown",
   "metadata": {},
   "source": [
    "### Best and worst photos"
   ]
  },
  {
   "cell_type": "code",
   "execution_count": 192,
   "metadata": {},
   "outputs": [],
   "source": [
    "wb_imgs_paths = [worst_img_path, best_img_path]"
   ]
  },
  {
   "cell_type": "code",
   "execution_count": 193,
   "metadata": {},
   "outputs": [],
   "source": [
    "wb_annot = [path.replace(\"images\", \"annotations\") for path in wb_imgs_paths]\n",
    "wb_annot = [path.replace(\".png\", \".xml\") for path in wb_annot]"
   ]
  },
  {
   "cell_type": "code",
   "execution_count": 248,
   "metadata": {},
   "outputs": [],
   "source": [
    "wb_imgs = [cv.imread(file) for file in wb_imgs_paths]\n",
    "wb_images, wb_labels, wb_files = extract_faces(wb_annot, return_bdbox=True)\n",
    "for i in range(len(wb_images)):\n",
    "    bdbox = wb_images[i]\n",
    "    idx = wb_imgs_paths.index(wb_files[i])\n",
    "    cv.rectangle(wb_imgs[idx], (bdbox[0], bdbox[1]), (bdbox[2], bdbox[3]), (0, 0, 255), 1)"
   ]
  },
  {
   "cell_type": "code",
   "execution_count": null,
   "metadata": {},
   "outputs": [],
   "source": [
    "for i in range(len(wb_imgs)):\n",
    "    fig=plt.figure(figsize=(20, 20))\n",
    "    axes = []\n",
    "    img = cv.cvtColor(wb_imgs[i], cv.COLOR_BGR2RGB)\n",
    "    axes.append(fig.add_subplot(3, 1, i+1))\n",
    "    plt.axis('off')\n",
    "    plt.imshow(img)"
   ]
  },
  {
   "cell_type": "code",
   "execution_count": 309,
   "metadata": {},
   "outputs": [],
   "source": [
    "foos = [(haar_annotate, haar_detector), (dnn_annotate, dnn_detector), (mtcnn_annotate, mtcnn_detector), (dlib_annotate, dlib_detector), (ddfa_annotate, face_boxes), (crowd_human_annotate, None)]\n",
    "annot = [\"Haar\", \"DNN\", \"MTCNN\",\"Dlib\", \"3DDFA\", \"CrowdHuman\"]"
   ]
  },
  {
   "cell_type": "code",
   "execution_count": null,
   "metadata": {},
   "outputs": [],
   "source": [
    "for i in range(len(wb_imgs_paths)):\n",
    "    fig=plt.figure(figsize=(35, 15))\n",
    "    axes = []\n",
    "    for j in range(len(foos)):\n",
    "        image = foos[j][0](wb_imgs_paths[i], foos[j][1])\n",
    "        axes.append(fig.add_subplot(2, 3, j+1))\n",
    "        plt.text(0, 0, annot[j], fontsize=30)\n",
    "        plt.axis('off')\n",
    "        plt.imshow(image)"
   ]
  },
  {
   "cell_type": "code",
   "execution_count": null,
   "metadata": {},
   "outputs": [],
   "source": []
  }
 ],
 "metadata": {
  "kernelspec": {
   "display_name": "Python 3",
   "language": "python",
   "name": "python3"
  },
  "language_info": {
   "codemirror_mode": {
    "name": "ipython",
    "version": 3
   },
   "file_extension": ".py",
   "mimetype": "text/x-python",
   "name": "python",
   "nbconvert_exporter": "python",
   "pygments_lexer": "ipython3",
   "version": "3.8.5"
  }
 },
 "nbformat": 4,
 "nbformat_minor": 5
}
