{
 "cells": [
  {
   "cell_type": "code",
   "execution_count": 2,
   "metadata": {},
   "outputs": [],
   "source": [
    "import numpy as np\n",
    "import cv2 as cv\n",
    "import matplotlib.pyplot as plt\n",
    "import glob\n",
    "import pandas as pd\n",
    "import seaborn as sns"
   ]
  },
  {
   "cell_type": "markdown",
   "metadata": {},
   "source": [
    "# Dataset choice"
   ]
  },
  {
   "cell_type": "markdown",
   "metadata": {},
   "source": [
    "## Dataset 1"
   ]
  },
  {
   "cell_type": "code",
   "execution_count": null,
   "metadata": {},
   "outputs": [],
   "source": [
    "%%bash\n",
    "CUDA_VISIBLE_DEVICES=\"0\" python vedadet/tools/infer_mask.py vedadet/configs/infer/tinaface/tinaface.py dataset/first_approach/with_mask dataset/first_approach/tina_detections/with_mask.json"
   ]
  },
  {
   "cell_type": "code",
   "execution_count": null,
   "metadata": {},
   "outputs": [],
   "source": [
    "%%bash\n",
    "CUDA_VISIBLE_DEVICES=\"0\" python vedadet/tools/infer_mask.py vedadet/configs/infer/tinaface/tinaface.py dataset/first_approach/without_mask dataset/first_approach/tina_detections/without_mask.json"
   ]
  },
  {
   "cell_type": "code",
   "execution_count": null,
   "metadata": {},
   "outputs": [],
   "source": [
    "%%bash\n",
    "CUDA_VISIBLE_DEVICES=\"0\" python vedadet/tools/infer_mask.py vedadet/configs/infer/tinaface/tinaface.py dataset/first_approach/incorrect_mask dataset/first_approach/tina_detections/incorrect_mask.json"
   ]
  },
  {
   "cell_type": "code",
   "execution_count": 17,
   "metadata": {},
   "outputs": [],
   "source": [
    "import json\n",
    "with open(\"dataset/first_approach/tina_detections/with_mask.json\") as file:\n",
    "    mask_face = json.load(file)\n",
    "\n",
    "with open(\"dataset/first_approach/tina_detections/without_mask.json\") as file:\n",
    "    nonmask_face = json.load(file)\n",
    "\n",
    "with open(\"dataset/first_approach/tina_detections/incorrect_mask.json\") as file:\n",
    "    incorrect_face = json.load(file)    "
   ]
  },
  {
   "cell_type": "code",
   "execution_count": 49,
   "metadata": {},
   "outputs": [],
   "source": [
    "many_faces = []\n",
    "faces_count = []\n",
    "lots_faces = []\n",
    "photo_size = []\n",
    "faces_size = []\n",
    "face_perc_area = []\n",
    "for cat in [mask_face, nonmask_face, incorrect_face]:\n",
    "    for i in range(len(cat)):\n",
    "        img = cat[str(i)]\n",
    "        faces_no = len(img[\"objects\"])\n",
    "        faces_count.append(faces_no)\n",
    "        filename = img[\"filename\"]\n",
    "        image = cv.imread(filename)\n",
    "        img_size = image.shape[0]*image.shape[1]\n",
    "        photo_size.append(img_size**0.5) \n",
    "        for j in range(faces_no):\n",
    "            bbox = img[\"objects\"][str(j)][\"coordinates\"]\n",
    "            face_size = (int(float(bbox[\"x_max\"])) - int(float(bbox[\"x_min\"])))*(int(float(bbox[\"y_max\"])) - int(float(bbox[\"y_min\"])))\n",
    "            faces_size.append(face_size**0.5)\n",
    "            face_perc_area.append(100*face_size/img_size)\n",
    "        if faces_no > 1:\n",
    "            many_faces.append(filename)\n",
    "            if faces_no >= 4:\n",
    "                lots_faces.append(filename)"
   ]
  },
  {
   "cell_type": "code",
   "execution_count": 32,
   "metadata": {},
   "outputs": [],
   "source": [
    "sns.set(font_scale=1.0)"
   ]
  },
  {
   "cell_type": "code",
   "execution_count": 52,
   "metadata": {},
   "outputs": [],
   "source": [
    "photo_size = [size/10**3 for size in photo_size]"
   ]
  },
  {
   "cell_type": "code",
   "execution_count": 63,
   "metadata": {},
   "outputs": [
    {
     "data": {
      "text/plain": [
       "<seaborn.axisgrid.FacetGrid at 0x7f093ccfe340>"
      ]
     },
     "execution_count": 63,
     "metadata": {},
     "output_type": "execute_result"
    },
    {
     "data": {
      "image/png": "[encoded data removed]",
      "text/plain": [
       "<Figure size 360x360 with 1 Axes>"
      ]
     },
     "metadata": {},
     "output_type": "display_data"
    }
   ],
   "source": [
    "fig = sns.displot(photo_size)\n",
    "for ax in fig.axes.flat:\n",
    "    ax.set_yscale('log')\n",
    "    ax.set(xlabel='Photo size (kilopixels)')\n",
    "fig"
   ]
  },
  {
   "cell_type": "code",
   "execution_count": 60,
   "metadata": {},
   "outputs": [
    {
     "data": {
      "text/plain": [
       "<seaborn.axisgrid.FacetGrid at 0x7f093cf428b0>"
      ]
     },
     "execution_count": 60,
     "metadata": {},
     "output_type": "execute_result"
    },
    {
     "data": {
      "image/png": "[encoded data removed]",
      "text/plain": [
       "<Figure size 360x360 with 1 Axes>"
      ]
     },
     "metadata": {},
     "output_type": "display_data"
    }
   ],
   "source": [
    "fig = sns.displot(faces_count)\n",
    "for ax in fig.axes.flat:\n",
    "    ax.set_yscale('log')\n",
    "    ax.set(xlabel='Faces on photo')\n",
    "fig"
   ]
  },
  {
   "cell_type": "code",
   "execution_count": 56,
   "metadata": {},
   "outputs": [],
   "source": [
    "faces_size = [size/10**3 for size in faces_size]"
   ]
  },
  {
   "cell_type": "code",
   "execution_count": 66,
   "metadata": {},
   "outputs": [
    {
     "data": {
      "text/plain": [
       "<seaborn.axisgrid.FacetGrid at 0x7f093cb30e50>"
      ]
     },
     "execution_count": 66,
     "metadata": {},
     "output_type": "execute_result"
    },
    {
     "data": {
      "image/png": "[encoded data removed]",
      "text/plain": [
       "<Figure size 360x360 with 1 Axes>"
      ]
     },
     "metadata": {},
     "output_type": "display_data"
    }
   ],
   "source": [
    "fig = sns.displot(faces_size, bins=int((len(faces_size))**(0.5)))\n",
    "for ax in fig.axes.flat:\n",
    "    ax.set_yscale('log')\n",
    "    ax.set(xlabel='Face size (kilopixels)')\n",
    "fig"
   ]
  },
  {
   "cell_type": "code",
   "execution_count": 70,
   "metadata": {},
   "outputs": [
    {
     "data": {
      "text/plain": [
       "<seaborn.axisgrid.FacetGrid at 0x7f093c68ee20>"
      ]
     },
     "execution_count": 70,
     "metadata": {},
     "output_type": "execute_result"
    },
    {
     "data": {
      "image/png": "[encoded data removed]",
      "text/plain": [
       "<Figure size 360x360 with 1 Axes>"
      ]
     },
     "metadata": {},
     "output_type": "display_data"
    }
   ],
   "source": [
    "import matplotlib.ticker as tkr\n",
    "fig = sns.displot(face_perc_area, bins=int((len(face_perc_area))**(0.5)))\n",
    "for ax in fig.axes.flat:\n",
    "    ax.xaxis.set_major_formatter(tkr.FuncFormatter(lambda x, p: f'{x: .0f}%'))\n",
    "    ax.set(xlabel='Faces percentage')\n",
    "fig"
   ]
  },
  {
   "cell_type": "code",
   "execution_count": null,
   "metadata": {},
   "outputs": [],
   "source": [
    "for img_file in lots_faces:\n",
    "    img = cv.imread(img_file)\n",
    "    plt.axis('off')\n",
    "    img = cv.cvtColor(img, cv.COLOR_BGR2RGB)\n",
    "    plt.imshow(img)\n",
    "    plt.show()"
   ]
  },
  {
   "cell_type": "code",
   "execution_count": null,
   "metadata": {},
   "outputs": [],
   "source": []
  }
 ],
 "metadata": {
  "kernelspec": {
   "display_name": "Python 3",
   "language": "python",
   "name": "python3"
  },
  "language_info": {
   "codemirror_mode": {
    "name": "ipython",
    "version": 3
   },
   "file_extension": ".py",
   "mimetype": "text/x-python",
   "name": "python",
   "nbconvert_exporter": "python",
   "pygments_lexer": "ipython3",
   "version": "3.8.5"
  }
 },
 "nbformat": 4,
 "nbformat_minor": 4
}
